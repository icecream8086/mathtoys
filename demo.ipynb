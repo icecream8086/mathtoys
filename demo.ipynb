{
 "cells": [
  {
   "cell_type": "markdown",
   "metadata": {},
   "source": [
    "# 所有公式输入接受Latex格式,所有字符串均为RawString.防止和字符串中的转义字符冲突\n"
   ]
  },
  {
   "cell_type": "markdown",
   "metadata": {},
   "source": [
    "# 求极限\n",
    "\n",
    "sympy不支持按步骤化简分步输出功能,请自行化简"
   ]
  },
  {
   "cell_type": "code",
   "execution_count": 75,
   "metadata": {},
   "outputs": [
    {
     "name": "stdout",
     "output_type": "stream",
     "text": [
      "source formula: \n"
     ]
    },
    {
     "data": {
      "image/png": "[encoded data removed]",
      "text/latex": [
       "$\\displaystyle \\log{\\left(2 + 3^{- x} \\right)}$"
      ],
      "text/plain": [
       "   ⎛     -x   ⎞\n",
       "log⎝2 + 3  , ℯ⎠"
      ]
     },
     "metadata": {},
     "output_type": "display_data"
    },
    {
     "name": "stdout",
     "output_type": "stream",
     "text": [
      "当 x 趋近于 正无穷，函数的极限为: \n"
     ]
    },
    {
     "data": {
      "image/png": "[encoded data removed]",
      "text/latex": [
       "$\\displaystyle \\log{\\left(2 \\right)}$"
      ],
      "text/plain": [
       "log(2)"
      ]
     },
     "metadata": {},
     "output_type": "display_data"
    },
    {
     "name": "stdout",
     "output_type": "stream",
     "text": [
      "当 x 趋近于 负无穷，函数的极限为: \n"
     ]
    },
    {
     "data": {
      "image/png": "[encoded data removed]",
      "text/latex": [
       "$\\displaystyle \\infty$"
      ],
      "text/plain": [
       "∞"
      ]
     },
     "metadata": {},
     "output_type": "display_data"
    },
    {
     "name": "stdout",
     "output_type": "stream",
     "text": [
      "当 x 侧趋近于 0，函数的极限为: \n"
     ]
    },
    {
     "data": {
      "image/png": "[encoded data removed]",
      "text/latex": [
       "$\\displaystyle \\log{\\left(3 \\right)}$"
      ],
      "text/plain": [
       "log(3)"
      ]
     },
     "metadata": {},
     "output_type": "display_data"
    },
    {
     "name": "stdout",
     "output_type": "stream",
     "text": [
      "当 x 从右侧趋近于 0，函数的极限为: \n"
     ]
    },
    {
     "data": {
      "image/png": "[encoded data removed]",
      "text/latex": [
       "$\\displaystyle \\log{\\left(3 \\right)}$"
      ],
      "text/plain": [
       "log(3)"
      ]
     },
     "metadata": {},
     "output_type": "display_data"
    },
    {
     "name": "stdout",
     "output_type": "stream",
     "text": [
      "当 x 从左侧趋近于 0，函数的极限为: \n"
     ]
    },
    {
     "data": {
      "image/png": "[encoded data removed]",
      "text/latex": [
       "$\\displaystyle \\log{\\left(3 \\right)}$"
      ],
      "text/plain": [
       "log(3)"
      ]
     },
     "metadata": {},
     "output_type": "display_data"
    }
   ],
   "source": [
    "from sympy import symbols, limit, oo, pprint\n",
    "from sympy.parsing.latex import parse_latex\n",
    "\n",
    "x = symbols('x')\n",
    "formula = r\"\\ln{(2+3^{-x})}\"\n",
    "f = parse_latex(formula)\n",
    "print(\"source formula: \")\n",
    "display(f)\n",
    "\n",
    "try:\n",
    "    # 计算并显示 x 趋近于 正无穷 的极限\n",
    "    lim_inf = limit(f, x, oo)\n",
    "    print(\"当 x 趋近于 正无穷，函数的极限为: \")\n",
    "    display(lim_inf)\n",
    "except Exception as e:\n",
    "    display(\"在计算极限时发生错误: 当 x 趋近于 正无穷，函数的极限为: \", e)\n",
    "\n",
    "try:\n",
    "    # 计算并显示 x 趋近于 负无穷 的极限\n",
    "    lim_ninf = limit(f, x, -oo)\n",
    "    print(\"当 x 趋近于 负无穷，函数的极限为: \")\n",
    "    display(lim_ninf)\n",
    "except Exception as e:\n",
    "    display(\"在计算极限时发生错误: 当 x 趋近于 负无穷，函数的极限为: \", e)\n",
    "\n",
    "try:\n",
    "    # 计算并显示 x 趋近于 0 的极限\n",
    "    lim_0_plus = limit(f, x, 0)\n",
    "    print(\"当 x 侧趋近于 0，函数的极限为: \")\n",
    "    display(lim_0_plus)\n",
    "except Exception as e:\n",
    "    display(\"在计算极限时发生错误: 当 x 趋近于 0，函数的极限为: \", e)\n",
    "    \n",
    "    \n",
    "try:\n",
    "    # 计算并显示 x 趋近于 0 的右极限\n",
    "    lim_0_plus = limit(f, x, 0, '+')\n",
    "    print(\"当 x 从右侧趋近于 0，函数的极限为: \")\n",
    "    display(lim_0_plus)\n",
    "except Exception as e:\n",
    "    display(\"在计算极限时发生错误: 当 x 从右侧趋近于 0，函数的极限为: \", e)\n",
    "    \n",
    "try:\n",
    "    # 计算并显示 x 趋近于 0 的左极限\n",
    "    lim_0_minus = limit(f, x, 0, '-')\n",
    "    print(\"当 x 从左侧趋近于 0，函数的极限为: \")\n",
    "    display(lim_0_minus)\n",
    "except Exception as e:\n",
    "    display(\"在计算极限时发生错误: 当 x 从左侧趋近于 0，函数的极限为: \", e)"
   ]
  },
  {
   "cell_type": "markdown",
   "metadata": {},
   "source": [
    "# 不定积分\n",
    "定积分请手动添加传入参数"
   ]
  },
  {
   "cell_type": "code",
   "execution_count": 27,
   "metadata": {},
   "outputs": [
    {
     "name": "stdout",
     "output_type": "stream",
     "text": [
      "被积函数: \n"
     ]
    },
    {
     "data": {
      "image/png": "[encoded data removed]",
      "text/latex": [
       "$\\displaystyle \\frac{e^{x}}{\\left(e^{x} + 1\\right)^{2}}$"
      ],
      "text/plain": [
       "     x   \n",
       "    e    \n",
       "─────────\n",
       "        2\n",
       "⎛ x    ⎞ \n",
       "⎝e  + 1⎠ "
      ]
     },
     "metadata": {},
     "output_type": "display_data"
    },
    {
     "name": "stdout",
     "output_type": "stream",
     "text": [
      "result: \n"
     ]
    },
    {
     "data": {
      "image/png": "[encoded data removed]",
      "text/latex": [
       "$\\displaystyle \\frac{1}{2 \\log{\\left(e \\right)}} - \\frac{1}{e \\log{\\left(e \\right)} + \\log{\\left(e \\right)}}$"
      ],
      "text/plain": [
       "   1               1        \n",
       "──────── - ─────────────────\n",
       "2⋅log(e)   e⋅log(e) + log(e)"
      ]
     },
     "metadata": {},
     "output_type": "display_data"
    }
   ],
   "source": [
    "from sympy import symbols, integrate, pprint\n",
    "from sympy.parsing.latex import parse_latex\n",
    "\n",
    "x = symbols('x')\n",
    "formula = r\"\\frac{e^x}{(e^x + 1)^2}\"\n",
    "f = parse_latex(formula)\n",
    "\n",
    "# 显示被积函数\n",
    "print(\"被积函数: \")\n",
    "display(f)\n",
    "\n",
    "# 计算并显示不定积分\n",
    "definite_integral = integrate(f, (x, 0, 1))\n",
    "print(\"result: \")\n",
    "display(definite_integral)"
   ]
  },
  {
   "cell_type": "markdown",
   "metadata": {},
   "source": [
    "# 求导案例"
   ]
  },
  {
   "cell_type": "code",
   "execution_count": 67,
   "metadata": {},
   "outputs": [
    {
     "name": "stdout",
     "output_type": "stream",
     "text": [
      "Source function: \n"
     ]
    },
    {
     "data": {
      "image/png": "[encoded data removed]",
      "text/latex": [
       "$\\displaystyle \\int \\frac{x^{2}}{\\sqrt{- \\left(x - 1\\right) \\left(x + 1\\right)}}\\, dx$"
      ],
      "text/plain": [
       "⌠                        \n",
       "⎮           2            \n",
       "⎮          x             \n",
       "⎮ ──────────────────── dx\n",
       "⎮   __________________   \n",
       "⎮ ╲╱ -(x - 1)⋅(x + 1)    \n",
       "⌡                        "
      ]
     },
     "metadata": {},
     "output_type": "display_data"
    },
    {
     "name": "stdout",
     "output_type": "stream",
     "text": [
      "Derivative: \n",
      "Iteration 1:\n"
     ]
    },
    {
     "data": {
      "image/png": "[encoded data removed]",
      "text/latex": [
       "$\\displaystyle \\frac{d}{d x} \\int \\frac{x^{2}}{\\sqrt{- \\left(x - 1\\right) \\left(x + 1\\right)}}\\, dx$"
      ],
      "text/plain": [
       "  ⎛⌠                        ⎞\n",
       "  ⎜⎮           2            ⎟\n",
       "d ⎜⎮          x             ⎟\n",
       "──⎜⎮ ──────────────────── dx⎟\n",
       "dx⎜⎮   __________________   ⎟\n",
       "  ⎜⎮ ╲╱ -(x - 1)⋅(x + 1)    ⎟\n",
       "  ⎝⌡                        ⎠"
      ]
     },
     "metadata": {},
     "output_type": "display_data"
    },
    {
     "name": "stdout",
     "output_type": "stream",
     "text": [
      "Derivative after simplification:\n"
     ]
    },
    {
     "data": {
      "image/png": "[encoded data removed]",
      "text/latex": [
       "$\\displaystyle \\frac{x^{2}}{\\sqrt{1 - x^{2}}}$"
      ],
      "text/plain": [
       "      2    \n",
       "     x     \n",
       "───────────\n",
       "   ________\n",
       "  ╱      2 \n",
       "╲╱  1 - x  "
      ]
     },
     "metadata": {},
     "output_type": "display_data"
    },
    {
     "name": "stdout",
     "output_type": "stream",
     "text": [
      "Iteration 2:\n"
     ]
    },
    {
     "data": {
      "image/png": "[encoded data removed]",
      "text/latex": [
       "$\\displaystyle \\frac{x^{2}}{2 \\sqrt{1 - x^{2}}} - \\frac{\\sqrt{1 - x^{2}}}{2} + \\frac{1}{2 \\sqrt{1 - x^{2}}}$"
      ],
      "text/plain": [
       "                   ________                \n",
       "       2          ╱      2                 \n",
       "      x         ╲╱  1 - x           1      \n",
       "───────────── - ─────────── + ─────────────\n",
       "     ________        2             ________\n",
       "    ╱      2                      ╱      2 \n",
       "2⋅╲╱  1 - x                   2⋅╲╱  1 - x  "
      ]
     },
     "metadata": {},
     "output_type": "display_data"
    },
    {
     "name": "stdout",
     "output_type": "stream",
     "text": [
      "Derivative after simplification:\n"
     ]
    },
    {
     "data": {
      "image/png": "[encoded data removed]",
      "text/latex": [
       "$\\displaystyle \\frac{x^{2}}{\\sqrt{1 - x^{2}}}$"
      ],
      "text/plain": [
       "      2    \n",
       "     x     \n",
       "───────────\n",
       "   ________\n",
       "  ╱      2 \n",
       "╲╱  1 - x  "
      ]
     },
     "metadata": {},
     "output_type": "display_data"
    },
    {
     "name": "stdout",
     "output_type": "stream",
     "text": [
      "Derivative has not changed, stopping.\n"
     ]
    }
   ],
   "source": [
    "from sympy import symbols, Derivative, init_printing\n",
    "from sympy.parsing.latex import parse_latex\n",
    "from IPython.display import display\n",
    "\n",
    "# 启用美化打印\n",
    "init_printing(use_unicode=True)\n",
    "\n",
    "x = symbols('x')\n",
    "\n",
    "# LaTeX 公式字符串\n",
    "#  添加RawString 防止和字符串中的转义字符冲突\n",
    "formula = r\"\\int \\frac{x^{2}}{\\sqrt{- \\left(x - 1\\right) \\left(x + 1\\right)}}\\, dx\"\n",
    "\n",
    "# 使用 parse_latex 函数将 LaTeX 公式转换为 SymPy 表达式\n",
    "f = parse_latex(formula)\n",
    "print(\"Source function: \")\n",
    "display(f)\n",
    "\n",
    "# 求导\n",
    "derivative = Derivative(f, x, 1)\n",
    "\n",
    "print(\"Derivative: \")\n",
    "\n",
    "# 设置最大迭代次数\n",
    "max_iterations = 100\n",
    "\n",
    "# 一步一步地计算导数\n",
    "previous_derivative = None\n",
    "for i in range(max_iterations):\n",
    "    print(f\"Iteration {i+1}:\")\n",
    "    display(derivative)\n",
    "    derivative = derivative.doit()\n",
    "    print(\"Derivative after simplification:\")\n",
    "    display(derivative.simplify())\n",
    "    # 如果导数与前一次的结果相同，就停止循环\n",
    "    if derivative == previous_derivative:\n",
    "        print(\"Derivative has not changed, stopping.\")\n",
    "        break\n",
    "    previous_derivative = derivative"
   ]
  },
  {
   "cell_type": "markdown",
   "metadata": {},
   "source": [
    "# 化简\n",
    "如果输入和输出相同代表无结果,已经化简到最简,理论上不会显示结果，但是如果输入和输出不同，代表有结果，但是sympy无法化简到最简,这个bug暂时无法修复"
   ]
  },
  {
   "cell_type": "markdown",
   "metadata": {},
   "source": [
    "# Note\n",
    "\n",
    "SymPy 的求导操作通常遵循标准的微积分规则，并不会主动进行 \"+1-1\" 这样的操作来\"凑整数\"，在微积分中，\"+1-1\" 的操作通常用于简化表达式或进行特定的代数操作，如完成平方。因此，SymPy 不会主动进行这种操作，反而有可能会死算。这个也许算是符号计算的一个缺点，但也是符号计算和数值计算的一个区别。如果需要这种操作，可以使用 simplify 函数，它会尝试进行各种代数操作，包括 \"+1-1\" 这样的操作,但是遗憾的是它并不可以分步化简,它使用了好像也看不出,所以好像只能一次性出结果...\n",
    "这个也算是一种特性???\n",
    "\n",
    "也许可以添加自定义化简规则??\n",
    "    但是好像破坏了开箱即用的初衷?...."
   ]
  },
  {
   "cell_type": "code",
   "execution_count": 76,
   "metadata": {},
   "outputs": [
    {
     "name": "stdout",
     "output_type": "stream",
     "text": [
      "Source function: \n"
     ]
    },
    {
     "data": {
      "image/png": "[encoded data removed]",
      "text/latex": [
       "$\\displaystyle x^{2} + \\left(-1 + 1\\right)$"
      ],
      "text/plain": [
       " 2         \n",
       "x  + -1 + 1"
      ]
     },
     "metadata": {},
     "output_type": "display_data"
    },
    {
     "name": "stdout",
     "output_type": "stream",
     "text": [
      "Simplified function: 使用 simplify 函数化简表达式\n",
      "\n"
     ]
    },
    {
     "data": {
      "image/png": "[encoded data removed]",
      "text/latex": [
       "$\\displaystyle x^{2}$"
      ],
      "text/plain": [
       " 2\n",
       "x "
      ]
     },
     "metadata": {},
     "output_type": "display_data"
    },
    {
     "data": {
      "image/png": "[encoded data removed]",
      "text/latex": [
       "$\\displaystyle x^{2}$"
      ],
      "text/plain": [
       " 2\n",
       "x "
      ]
     },
     "metadata": {},
     "output_type": "display_data"
    },
    {
     "name": "stdout",
     "output_type": "stream",
     "text": [
      "Expanded function: 使用 expand 函数展开表达式\n",
      "\n"
     ]
    },
    {
     "data": {
      "image/png": "[encoded data removed]",
      "text/latex": [
       "$\\displaystyle x^{2} + \\left(-1 + 1\\right)$"
      ],
      "text/plain": [
       " 2         \n",
       "x  + -1 + 1"
      ]
     },
     "metadata": {},
     "output_type": "display_data"
    },
    {
     "data": {
      "image/png": "[encoded data removed]",
      "text/latex": [
       "$\\displaystyle x^{2}$"
      ],
      "text/plain": [
       " 2\n",
       "x "
      ]
     },
     "metadata": {},
     "output_type": "display_data"
    },
    {
     "name": "stdout",
     "output_type": "stream",
     "text": [
      "Factored function: 使用 factor 函数因式分解表达式\n",
      "\n"
     ]
    },
    {
     "data": {
      "image/png": "[encoded data removed]",
      "text/latex": [
       "$\\displaystyle x^{2}$"
      ],
      "text/plain": [
       " 2\n",
       "x "
      ]
     },
     "metadata": {},
     "output_type": "display_data"
    },
    {
     "name": "stdout",
     "output_type": "stream",
     "text": [
      "x^{2}\n"
     ]
    },
    {
     "data": {
      "image/png": "[encoded data removed]",
      "text/latex": [
       "$\\displaystyle x^{2}$"
      ],
      "text/plain": [
       " 2\n",
       "x "
      ]
     },
     "metadata": {},
     "output_type": "display_data"
    }
   ],
   "source": [
    "import dis\n",
    "from sympy import symbols, Derivative, init_printing,simplify, expand, factor, collect, cancel, apart\n",
    "from sympy.parsing.latex import parse_latex\n",
    "from IPython.display import display\n",
    "from sympy import latex\n",
    "\n",
    "x = symbols('x')\n",
    "\n",
    "# 为了方便导出，添加输出为Latex格式\n",
    "def display_simplified(expr, should_display):\n",
    "    simplified_expr = simplify(expr)\n",
    "    if should_display:\n",
    "        display(simplified_expr)\n",
    "\n",
    "# 公式\n",
    "formula = r\"x^{2} + (+1 -1)\"\n",
    "f = parse_latex(formula)\n",
    "print(\"Source function: \")\n",
    "display(f)\n",
    "\n",
    "# 是否输出Latex格式的字符串\n",
    "logable = True\n",
    "\n",
    "last_f = f\n",
    "\n",
    "# 使用 simplify 函数化简表达式\n",
    "try:\n",
    "    simplified_f = simplify(f)\n",
    "    if simplified_f != last_f:\n",
    "        print(\"Simplified function: 使用 simplify 函数化简表达式\\n\")\n",
    "        display(simplified_f)\n",
    "        display_simplified(simplified_f,logable )\n",
    "    last_f = simplified_f\n",
    "except Exception as e:\n",
    "    print(\"Simplified function: 使用 simplify 函数化简表达式\\n\")\n",
    "    print(\"在化简表达式时发生错误: \\n\", e)\n",
    "    \n",
    "# 使用 expand 函数展开表达式\n",
    "try:\n",
    "    expanded_f = expand(f)\n",
    "    if expanded_f != last_f:\n",
    "        print(\"Expanded function: 使用 expand 函数展开表达式\\n\")\n",
    "        display(expanded_f)\n",
    "        display_simplified(expanded_f,logable )\n",
    "    last_f = expanded_f\n",
    "except Exception as e:\n",
    "    print(\"Expanded function: 使用 expand 函数展开表达式\\n\")\n",
    "    print(\"在展开表达式时发生错误: \\n\", e)\n",
    "    \n",
    "# 使用 factor 函数因式分解表达式\n",
    "try:\n",
    "    factored_f = factor(f)\n",
    "    if factored_f != last_f:\n",
    "        print(\"Factored function: 使用 factor 函数因式分解表达式\\n\")\n",
    "        display(factored_f)\n",
    "        # 输出Latex公式\n",
    "        latex_string = latex(factored_f)\n",
    "        print(latex_string)\n",
    "        display_simplified(factored_f,logable )\n",
    "    last_f = factored_f\n",
    "except Exception as e:\n",
    "    print(\"Factored function: 使用 factor 函数因式分解表达式\\n\")\n",
    "    print(\"在因式分解表达式时发生错误: \\n\", e)\n",
    "\n",
    "# 使用 collect 函数收集表达式的项\n",
    "try:\n",
    "    collected_f = collect(f, x)\n",
    "    if collected_f != last_f:\n",
    "        print(\"Collected function: 使用 collect 函数收集表达式的项\\n\")\n",
    "        display(collected_f)\n",
    "        display_simplified(collected_f,logable )\n",
    "    last_f = collected_f\n",
    "except Exception as e:\n",
    "    print(\"Collected function: 使用 collect 函数收集表达式的项\\n\")\n",
    "    print(\"在收集表达式的项时发生错误: \\n\", e)\n",
    "    \n",
    "# 使用 cancel 函数化简表达式的分子和分母\n",
    "try:\n",
    "    cancelled_f = cancel(f)\n",
    "    if cancelled_f != last_f:\n",
    "        print(\"Cancelled function: 使用 cancel 函数化简表达式的分子和分母\\n\")\n",
    "        display(cancelled_f)\n",
    "        display_simplified(cancelled_f,logable )\n",
    "    last_f = cancelled_f\n",
    "except Exception as e:\n",
    "    print(\"Cancelled function: 使用 cancel 函数化简表达式的分子和分母\\n\")\n",
    "    print(\"在化简表达式的分子和分母时发生错误: \\n\", e)\n",
    "\n",
    "# 使用 apart 函数进行部分分式分解\n",
    "try:\n",
    "    aparted_f = apart(f)\n",
    "    if aparted_f != last_f:\n",
    "        print(\"Aparted function: 使用 apart 函数进行部分分式分解\\n\")\n",
    "        display(aparted_f)\n",
    "        display_simplified(aparted_f,logable )\n",
    "    last_f = aparted_f\n",
    "except Exception as e:\n",
    "    print(\"Aparted function: 使用 apart 函数进行部分分式分解\\n\")\n",
    "    print(\"在进行部分分式分解时发生错误: \\n\", e)\n"
   ]
  },
  {
   "cell_type": "markdown",
   "metadata": {},
   "source": [
    "# todo\n",
    "    添加自定义化简规则...\n",
    "    线性代数相关..."
   ]
  }
 ],
 "metadata": {
  "kernelspec": {
   "display_name": "Python 3 (ipykernel)",
   "language": "python",
   "name": "python3"
  },
  "language_info": {
   "codemirror_mode": {
    "name": "ipython",
    "version": 3
   },
   "file_extension": ".py",
   "mimetype": "text/x-python",
   "name": "python",
   "nbconvert_exporter": "python",
   "pygments_lexer": "ipython3",
   "version": "3.11.6"
  }
 },
 "nbformat": 4,
 "nbformat_minor": 2
}
